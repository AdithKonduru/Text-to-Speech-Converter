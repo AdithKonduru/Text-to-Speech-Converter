{
 "cells": [
  {
   "cell_type": "code",
   "execution_count": 513,
   "metadata": {},
   "outputs": [],
   "source": [
    "import tkinter as tk\n",
    "from tkinter import *\n",
    "from tkinter import filedialog\n",
    "from tkinter.ttk import Combobox\n",
    "import pyttsx3\n",
    "import os\n",
    "from gtts import gTTS\n",
    "from playsound import playsound"
   ]
  },
  {
   "cell_type": "code",
   "execution_count": 514,
   "metadata": {},
   "outputs": [],
   "source": [
    "root = Tk()\n",
    "root.title(\"Text to Speech Convertor\")\n",
    "root.geometry(\"1000x580+200+80\")\n",
    "root.resizable(True,True)\n",
    "root.configure(bg=\"#F7AC40\")\n",
    "#root.mainloop()"
   ]
  },
  {
   "cell_type": "code",
   "execution_count": 515,
   "metadata": {},
   "outputs": [],
   "source": [
    "tts = pyttsx3.init()\n",
    "def speaknow():\n",
    "    text = text_box.get(1.0, END)\n",
    "    gender = gender_box.get()\n",
    "    speed = speed_box.get()\n",
    "    voices = tts.getProperty('voices')\n",
    "\n",
    "    def setvoice():\n",
    "        if(gender == 'Male'):\n",
    "            tts.setProperty('voice', voices[0].id)\n",
    "            tts.say(text)\n",
    "            tts.runAndWait()\n",
    "        else:\n",
    "            tts.setProperty('voice', voices[1].id)\n",
    "            tts.say(text)\n",
    "            tts.runAndWait()\n",
    "    if(text):\n",
    "        if(speed == 'Fast'):\n",
    "            tts.setProperty('rate',250)\n",
    "            setvoice()   \n",
    "        elif(speed == 'Medium'):\n",
    "            tts.setProperty('rate',150)\n",
    "            setvoice()\n",
    "        else:\n",
    "            tts.setProperty('rate',60)\n",
    "            setvoice()        "
   ]
  },
  {
   "cell_type": "code",
   "execution_count": 516,
   "metadata": {},
   "outputs": [],
   "source": [
    "# Create a frame\n",
    "upper_frame = tk.Frame(root, bg=\"#14A7DD\", width=1200, height=250)\n",
    "upper_frame.place(x=0, y=0)\n",
    "\n",
    "# Load and display an image\n",
    "try:\n",
    "    pic = tk.PhotoImage(file=\"images.png\")\n",
    "    label = tk.Label(upper_frame, image=pic)\n",
    "    label.place(x=10, y=10)\n",
    "except tk.TclError:\n",
    "    print(\"Error: Unable to load image 'images.png'. Check the file path and try again.\")\n",
    "\n",
    "# Run the Tkinter event loop\n",
    "#root.mainloop()"
   ]
  },
  {
   "cell_type": "code",
   "execution_count": 517,
   "metadata": {},
   "outputs": [],
   "source": [
    "label=tk.Label(upper_frame, text=\"Text to Speech Converter\", font=\"TimesNewroman 40 bold\", bg=\"#14A7DD\",fg=\"white\")\n",
    "label.place(x=300,y=35)\n",
    "label1=tk.Label(upper_frame, text=\"Hello! Experience the magic of turning text into voice\", font=\"calibri 21\", bg=\"#14A7DD\",fg=\"white\")\n",
    "label1.place(x=320,y=150)\n",
    "#root.mainloop()"
   ]
  },
  {
   "cell_type": "code",
   "execution_count": 518,
   "metadata": {},
   "outputs": [],
   "source": [
    "text_box = Text(root,font=\"calibri 20\",bg=\"white\",relief=GROOVE,wrap=WORD,bd=0)\n",
    "text_box.place(x=30,y=260,width=940,height=180)\n",
    "#root.mainloop()"
   ]
  },
  {
   "cell_type": "code",
   "execution_count": 519,
   "metadata": {},
   "outputs": [],
   "source": [
    "gender_box = Combobox(root,values=['Male','Female'],font=\"Robote 12\",state='r',width=12)\n",
    "gender_box.place(x=300,y=450)\n",
    "gender_box.set('Male')\n",
    "#root.mainloop()"
   ]
  },
  {
   "cell_type": "code",
   "execution_count": 520,
   "metadata": {},
   "outputs": [],
   "source": [
    "speed_box = Combobox(root,values=['Fast','Medium','Slow'],font=\"Robote 12\",state='r',width=12)\n",
    "speed_box.place(x=600,y=450)\n",
    "speed_box.set('Medium')\n",
    "#root.mainloop()"
   ]
  },
  {
   "cell_type": "code",
   "execution_count": 521,
   "metadata": {},
   "outputs": [],
   "source": [
    "label2=Label(root,text=\"Select Voice:\",font=\"TimesNewroman 15 bold\",bg=\"#F7AC40\",fg=\"white\")\n",
    "label2.place(x=170,y=446)\n",
    "label3=Label(root,text=\"Select Speed:\",font=\"TimesNewroman 15 bold\",bg=\"#F7AC40\",fg=\"white\")\n",
    "label3.place(x=463,y=446)\n",
    "#root.mainloop()"
   ]
  },
  {
   "cell_type": "code",
   "execution_count": 522,
   "metadata": {},
   "outputs": [],
   "source": [
    "play_button=Button(root,text=\"Play\",bg=\"white\",width=10,font=\"arial 14 bold\",borderwidth='0.1c',command=speaknow)\n",
    "play_button.place(x=440,y=500)\n",
    "root.mainloop()"
   ]
  }
 ],
 "metadata": {
  "kernelspec": {
   "display_name": "base",
   "language": "python",
   "name": "python3"
  },
  "language_info": {
   "codemirror_mode": {
    "name": "ipython",
    "version": 3
   },
   "file_extension": ".py",
   "mimetype": "text/x-python",
   "name": "python",
   "nbconvert_exporter": "python",
   "pygments_lexer": "ipython3",
   "version": "3.11.7"
  }
 },
 "nbformat": 4,
 "nbformat_minor": 2
}
